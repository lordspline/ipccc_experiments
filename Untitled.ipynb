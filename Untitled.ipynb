{
 "cells": [
  {
   "cell_type": "code",
   "execution_count": 1,
   "id": "9d636567-6572-4fbc-a5ae-87534205a558",
   "metadata": {},
   "outputs": [],
   "source": [
    "import gym\n",
    "import numpy as np\n",
    "import cv2\n",
    "import matplotlib.pyplot as plt\n",
    "import PIL.Image as Image\n",
    "import PIL.ImageOps as ImageOps\n",
    "import random\n",
    "from gym import Env, spaces\n",
    "from IPython.display import clear_output"
   ]
  },
  {
   "cell_type": "code",
   "execution_count": 5,
   "id": "0b31a519-41a6-4cc7-a629-38d049d3bf5c",
   "metadata": {},
   "outputs": [],
   "source": [
    "class Academy(Env):\n",
    "    def __init__(self, mode, canvas, targets_pos, drone1_pos):\n",
    "        super(Academy, self).__init__()\n",
    "        \n",
    "        assert mode in ['observe', 'attack']\n",
    "        self.mode = mode\n",
    "        \n",
    "        self.canvas = canvas\n",
    "        \n",
    "        self.drone1_pos = drone1_pos\n",
    "        self.drone1_battery = 1000\n",
    "        \n",
    "        self.targets_pos = targets_pos\n",
    "        \n",
    "        self.reserve = (canvas, targets_pos, drone1_pos)\n",
    "        \n",
    "        self.observation_shape = (20, 20, 1)\n",
    "        spacess = {\n",
    "            'visual': spaces.Box(low=np.zeros(self.observation_shape), high=np.ones(self.observation_shape), dtype=np.int8),\n",
    "            'battery': spaces.Discrete(1000)\n",
    "        }\n",
    "        self.observation_space = spaces.Dict(spacess)\n",
    "        self.action_space = spaces.Discrete(5)\n",
    "        \n",
    "        self.observe_reward = 0.2\n",
    "        self.attack_reward = 1\n",
    "        self.die_punish = 5\n",
    "    \n",
    "    def reset(self):\n",
    "        self.canvas, self.targets_pos, self.drone1_pos = self.reserve\n",
    "        self.drone1_battery = 1000\n",
    "    \n",
    "    def step(self, action):\n",
    "        \n",
    "        reward = 0\n",
    "        done = False\n",
    "        \n",
    "        #take action, move, also takes care of collisions with walls\n",
    "        if action == 0:\n",
    "            self.drone1_pos[0] = min(self.drone1_pos[0] + 1, 99)\n",
    "            if self.canvas[self.drone1_pos[0], self.drone1_pos[1], 0] == 1:\n",
    "                if self.drone1_pos not in self.targets_pos:\n",
    "                    self.drone1_pos[0] -= 1\n",
    "        elif action == 1:\n",
    "            self.drone1_pos[0] = max(self.drone1_pos[0] - 1, 0)\n",
    "            if self.canvas[self.drone1_pos[0], self.drone1_pos[1], 0] == 1:\n",
    "                if self.drone1_pos not in self.targets_pos:\n",
    "                    self.drone1_pos[0] += 1\n",
    "        elif action == 2:\n",
    "            self.drone1_pos[1] = min(self.drone1_pos[1] + 1, 99)\n",
    "            if self.canvas[self.drone1_pos[0], self.drone1_pos[1], 0] == 1:\n",
    "                if self.drone1_pos not in self.targets_pos:\n",
    "                    self.drone1_pos[1] -= 1\n",
    "        elif action == 3:\n",
    "            self.drone1_pos[1] = max(self.drone1_pos[1] - 1, 0)\n",
    "            if self.canvas[self.drone1_pos[0], self.drone1_pos[1], 0] == 1:\n",
    "                if self.drone1_pos not in self.targets_pos:\n",
    "                    self.drone1_pos[1] += 1\n",
    "        #action 4 is do nothing\n",
    "        \n",
    "        #battery decrease, done if finished\n",
    "        self.drone1_battery -= 1\n",
    "        if self.drone1_battery <= 0:\n",
    "            reward -= self.die_punish\n",
    "            done = True\n",
    "        \n",
    "        #get reward for observing a target, more for reaching target\n",
    "        for target_pos in self.targets_pos:\n",
    "            if self.mode == 'observe':\n",
    "                if abs(drone1_pos[0] - target_pos[0]) < 10 or abs(drone1_pos[1] - target_pos[1]) < 10:\n",
    "                    reward += self.observe_reward\n",
    "            elif self.mode == 'attack':\n",
    "                if drone1_pos == target_pos:\n",
    "                    reward += self.collide_reward\n",
    "                    self.targets_pos.remove(target_pos)\n",
    "                    self.canvas[target_pos[0], target_pos[1], 0] = 0\n",
    "        \n",
    "        #get observation, draw targets only on canvas\n",
    "        x_start = min(max(drone1_pos[0] - 10, 0), 99-20)\n",
    "        x_end = min(x_start+20, 99)\n",
    "        y_start = min(max(drone1_pos[1] - 10, 0), 99-20)\n",
    "        y_end = min(y_start+20, 99)\n",
    "        drone1_obs = np.copy(self.canvas)\n",
    "        for target_pos in self.targets_pos:\n",
    "            drone1_obs[target_pos[0], target_pos[1], 0] = 1\n",
    "        drone1_obs = drone1_obs[x_start:x_end, y_start:y_end]\n",
    "\n",
    "        return {'visual': drone1_obs, 'battery': self.drone1_battery}, reward, done, []\n",
    "    \n",
    "    def render(self, mode='human'):\n",
    "        im = np.copy(np.squeeze(self.canvas))\n",
    "        im[self.drone1_pos[0], self.drone1_pos[1]] = 1\n",
    "        for target_pos in self.targets_pos:\n",
    "            im[target_pos[0], target_pos[1]] = 1\n",
    "        im = 1 - im\n",
    "        cv2.namedWindow('a', cv2.WINDOW_NORMAL)\n",
    "        cv2.imshow('a', im)\n",
    "        cv2.waitKey(10)"
   ]
  },
  {
   "cell_type": "code",
   "execution_count": 6,
   "id": "13f53133-a213-463f-bd03-510ba8061cad",
   "metadata": {},
   "outputs": [
    {
     "data": {
      "image/png": "[encoded data removed]",
      "text/plain": [
       "<Figure size 432x288 with 1 Axes>"
      ]
     },
     "metadata": {
      "needs_background": "light"
     },
     "output_type": "display_data"
    }
   ],
   "source": [
    "im = Image.open('pixil-frame-0.png')\n",
    "im = ImageOps.grayscale(im)\n",
    "im = np.array(im)\n",
    "im = im / 255\n",
    "im = 1 - im\n",
    "\n",
    "drone1_pos = [90, 10]\n",
    "targets_pos = []\n",
    "for i in range(150):\n",
    "    targets_pos.append([random.randint(0, 99), random.randint(0, 99)])\n",
    "for pos in targets_pos:\n",
    "    im[pos[0], pos[1]] = 1\n",
    "plt.imshow(im, cmap='gray')\n",
    "\n",
    "im = np.expand_dims(im, -1)"
   ]
  },
  {
   "cell_type": "code",
   "execution_count": 7,
   "id": "bd7d4ead-654f-4892-881d-8fbc8c06d61d",
   "metadata": {},
   "outputs": [],
   "source": [
    "env = Academy('observe', im, targets_pos, drone1_pos)\n",
    "env.reset()"
   ]
  },
  {
   "cell_type": "code",
   "execution_count": 9,
   "id": "5a8790e6-6830-49d6-828f-401e70543113",
   "metadata": {},
   "outputs": [
    {
     "name": "stdout",
     "output_type": "stream",
     "text": [
      "10.599999999999994\n",
      "200\n",
      "(20, 20, 1)\n"
     ]
    }
   ],
   "source": [
    "env.reset()\n",
    "for i in range(800):\n",
    "    action = random.randint(0, 4)\n",
    "    obs, rew, _, _ = env.step(action)\n",
    "    \n",
    "    clear_output(wait=True)\n",
    "    print(rew)\n",
    "    print(obs['battery'])\n",
    "    print(obs['visual'].shape)\n",
    "    \n",
    "    cv2.namedWindow('b', cv2.WINDOW_NORMAL)\n",
    "    cv2.imshow('b', 1 - obs['visual'])\n",
    "    cv2.waitKey(10)\n",
    "    \n",
    "    env.render()\n",
    "\n",
    "cv2.destroyAllWindows()"
   ]
  },
  {
   "cell_type": "code",
   "execution_count": null,
   "id": "bfe03e9f-0ac9-4d8d-96fb-87dd1e004eaf",
   "metadata": {},
   "outputs": [],
   "source": []
  }
 ],
 "metadata": {
  "kernelspec": {
   "display_name": "Python 3 (ipykernel)",
   "language": "python",
   "name": "python3"
  },
  "language_info": {
   "codemirror_mode": {
    "name": "ipython",
    "version": 3
   },
   "file_extension": ".py",
   "mimetype": "text/x-python",
   "name": "python",
   "nbconvert_exporter": "python",
   "pygments_lexer": "ipython3",
   "version": "3.10.2"
  }
 },
 "nbformat": 4,
 "nbformat_minor": 5
}
